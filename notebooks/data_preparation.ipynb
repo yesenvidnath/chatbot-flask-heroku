{
  "nbformat": 4,
  "nbformat_minor": 0,
  "metadata": {
    "colab": {
      "provenance": []
    },
    "kernelspec": {
      "name": "python3",
      "display_name": "Python 3"
    },
    "language_info": {
      "name": "python"
    }
  },
  "cells": [
    {
      "cell_type": "code",
      "execution_count": 3,
      "metadata": {
        "colab": {
          "base_uri": "https://localhost:8080/"
        },
        "id": "irbg0DccMWLw",
        "outputId": "7b1a463d-c16c-4cec-cb28-6c114f259b6a"
      },
      "outputs": [
        {
          "output_type": "stream",
          "name": "stdout",
          "text": [
            "                    name    brand category  \\\n",
            "0  Corsair 4000D Airflow  Corsair     case   \n",
            "1           NZXT H5 Flow     NZXT     case   \n",
            "2           NZXT H9 Flow     NZXT     case   \n",
            "3           NZXT H9 Flow     NZXT     case   \n",
            "4    Montech AIR 903 MAX  Montech     case   \n",
            "\n",
            "                                         description  \n",
            "0  {'type': 'ATX Mid Tower', 'color': 'Black', 'p...  \n",
            "1  {'type': 'ATX Mid Tower', 'color': 'Black', 'p...  \n",
            "2  {'type': 'ATX Mid Tower', 'color': 'White', 'p...  \n",
            "3  {'type': 'ATX Mid Tower', 'color': 'Black', 'p...  \n",
            "4  {'type': 'ATX Mid Tower', 'color': 'Black', 'p...  \n"
          ]
        }
      ],
      "source": [
        "import pandas as pd\n",
        "\n",
        "# Load the dataset from pc_parts_dataset.json\n",
        "dataset_path = \"merged_modified_data.json\"\n",
        "df = pd.read_json(dataset_path)\n",
        "\n",
        "# Display the first few rows of the dataset\n",
        "print(df.head())\n"
      ]
    },
    {
      "cell_type": "code",
      "source": [
        "# Drop any unnecessary columns\n",
        "df = df.drop(columns=[\"name\", \"brand\", \"description\"])\n",
        "\n",
        "# Perform any necessary data cleaning and preprocessing steps\n",
        "# (e.g., handling missing values, converting categorical variables to numerical, etc.)\n",
        "\n",
        "# Example: Handling missing values (filling with 0)\n",
        "df.fillna(0, inplace=True)\n",
        "\n",
        "# Display information about the dataset after preprocessing\n",
        "print(df.info())\n"
      ],
      "metadata": {
        "colab": {
          "base_uri": "https://localhost:8080/"
        },
        "id": "enQOzujsOxvR",
        "outputId": "843f7e32-be4e-4eb0-880d-8afbd3b6cebb"
      },
      "execution_count": 4,
      "outputs": [
        {
          "output_type": "stream",
          "name": "stdout",
          "text": [
            "<class 'pandas.core.frame.DataFrame'>\n",
            "RangeIndex: 60506 entries, 0 to 60505\n",
            "Data columns (total 1 columns):\n",
            " #   Column    Non-Null Count  Dtype \n",
            "---  ------    --------------  ----- \n",
            " 0   category  60506 non-null  object\n",
            "dtypes: object(1)\n",
            "memory usage: 472.8+ KB\n",
            "None\n"
          ]
        }
      ]
    },
    {
      "cell_type": "code",
      "source": [
        "# Perform feature engineering if necessary\n",
        "# (e.g., creating new features based on existing ones)\n",
        "\n",
        "# Example: One-hot encoding for the 'category' column\n",
        "df_encoded = pd.get_dummies(df, columns=[\"category\"])\n",
        "\n",
        "# Display the first few rows of the encoded dataset\n",
        "print(df_encoded.head())\n"
      ],
      "metadata": {
        "colab": {
          "base_uri": "https://localhost:8080/"
        },
        "id": "IHDFDAcsO9w2",
        "outputId": "debd0b8f-3762-4666-d26f-9a2893a7d6ed"
      },
      "execution_count": 5,
      "outputs": [
        {
          "output_type": "stream",
          "name": "stdout",
          "text": [
            "   category_case  category_case-accessory  category_case-fan  category_cpu  \\\n",
            "0           True                    False              False         False   \n",
            "1           True                    False              False         False   \n",
            "2           True                    False              False         False   \n",
            "3           True                    False              False         False   \n",
            "4           True                    False              False         False   \n",
            "\n",
            "   category_cpu-cooler  category_external-hard-drive  category_fan-controller  \\\n",
            "0                False                         False                    False   \n",
            "1                False                         False                    False   \n",
            "2                False                         False                    False   \n",
            "3                False                         False                    False   \n",
            "4                False                         False                    False   \n",
            "\n",
            "   category_headphones  category_internal-hard-drive  category_keyboard  ...  \\\n",
            "0                False                         False              False  ...   \n",
            "1                False                         False              False  ...   \n",
            "2                False                         False              False  ...   \n",
            "3                False                         False              False  ...   \n",
            "4                False                         False              False  ...   \n",
            "\n",
            "   category_os  category_power-supply  category_sound-card  category_speakers  \\\n",
            "0        False                  False                False              False   \n",
            "1        False                  False                False              False   \n",
            "2        False                  False                False              False   \n",
            "3        False                  False                False              False   \n",
            "4        False                  False                False              False   \n",
            "\n",
            "   category_thermal-paste  category_ups  category_video-card  category_webcam  \\\n",
            "0                   False         False                False            False   \n",
            "1                   False         False                False            False   \n",
            "2                   False         False                False            False   \n",
            "3                   False         False                False            False   \n",
            "4                   False         False                False            False   \n",
            "\n",
            "   category_wired-network-card  category_wireless-network-card  \n",
            "0                        False                           False  \n",
            "1                        False                           False  \n",
            "2                        False                           False  \n",
            "3                        False                           False  \n",
            "4                        False                           False  \n",
            "\n",
            "[5 rows x 25 columns]\n"
          ]
        }
      ]
    },
    {
      "cell_type": "code",
      "source": [
        "# Print the column names of the DataFrame\n",
        "print(df_encoded.columns)"
      ],
      "metadata": {
        "colab": {
          "base_uri": "https://localhost:8080/"
        },
        "id": "pEFPVvgUY4IY",
        "outputId": "58aa55a2-4bff-4296-baf1-7f574f3e6e29"
      },
      "execution_count": 34,
      "outputs": [
        {
          "output_type": "stream",
          "name": "stdout",
          "text": [
            "Index(['category_case', 'category_case-accessory', 'category_case-fan',\n",
            "       'category_cpu', 'category_cpu-cooler', 'category_external-hard-drive',\n",
            "       'category_fan-controller', 'category_headphones',\n",
            "       'category_internal-hard-drive', 'category_keyboard', 'category_memory',\n",
            "       'category_monitor', 'category_motherboard', 'category_mouse',\n",
            "       'category_optical-drive', 'category_os', 'category_power-supply',\n",
            "       'category_sound-card', 'category_speakers', 'category_thermal-paste',\n",
            "       'category_ups', 'category_video-card', 'category_webcam',\n",
            "       'category_wired-network-card', 'category_wireless-network-card'],\n",
            "      dtype='object')\n"
          ]
        }
      ]
    },
    {
      "cell_type": "code",
      "source": [
        "from sklearn.model_selection import train_test_split\n",
        "\n",
        "# Define the features (independent variables) and the target (dependent variable)\n",
        "X = df_encoded.drop(columns=['category_cpu'])  # Dropping the target variable column\n",
        "y = df_encoded['category_cpu']  # Using 'category_cpu' as the target variable\n",
        "\n",
        "# Split the dataset into training and testing sets (e.g., 80% training, 20% testing)\n",
        "X_train, X_test, y_train, y_test = train_test_split(X, y, test_size=0.2, random_state=42)\n",
        "\n",
        "# Display the shapes of the training and testing sets\n",
        "print(\"Training set shape:\", X_train.shape, y_train.shape)\n",
        "print(\"Testing set shape:\", X_test.shape, y_test.shape)"
      ],
      "metadata": {
        "colab": {
          "base_uri": "https://localhost:8080/"
        },
        "id": "cO22M9mdPHyK",
        "outputId": "c7d4cd5d-e0f2-4118-d896-bee94c31ec4b"
      },
      "execution_count": 35,
      "outputs": [
        {
          "output_type": "stream",
          "name": "stdout",
          "text": [
            "Training set shape: (48404, 24) (48404,)\n",
            "Testing set shape: (12102, 24) (12102,)\n"
          ]
        }
      ]
    },
    {
      "cell_type": "code",
      "source": [],
      "metadata": {
        "id": "_sVCp9saZpjA"
      },
      "execution_count": null,
      "outputs": []
    }
  ]
}